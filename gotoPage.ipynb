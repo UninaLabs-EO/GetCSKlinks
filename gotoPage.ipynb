{
 "cells": [
  {
   "cell_type": "code",
   "execution_count": 1,
   "metadata": {},
   "outputs": [],
   "source": [
    "from selenium import webdriver\n",
    "from selenium.webdriver.common.by import By\n",
    "from selenium.webdriver.support.ui import WebDriverWait\n",
    "from selenium.webdriver.support import expected_conditions as EC\n",
    "from selenium.webdriver.common.keys import Keys\n",
    "from selenium.common.exceptions import NoSuchElementException     \n",
    "from selenium.webdriver.support.ui import Select\n",
    "\n",
    "from time import sleep\n",
    "import os\n",
    "\n",
    "\n",
    "def GetByXPath(xPath: str):\n",
    "     element = WebDriverWait(driver, 30).until(\n",
    "          EC.presence_of_element_located((By.XPATH, xPath))\n",
    "     )\n",
    "     return element\n",
    "\n",
    "def GetByCSS_Selector(css_selector:str):\n",
    "     element = WebDriverWait(driver, 60).until(\n",
    "          EC.presence_of_element_located((By.CSS_SELECTOR, css_selector))\n",
    "     )\n",
    "     return element\n",
    "     \n",
    "def clicker(css_selector:str):\n",
    "     try:\n",
    "          element = GetByCSS_Selector(css_selector)\n",
    "          element.click()\n",
    "          return True\n",
    "     except:\n",
    "          print(\"Click action not executable.\")\n",
    "          return False"
   ]
  },
  {
   "cell_type": "code",
   "execution_count": null,
   "metadata": {},
   "outputs": [],
   "source": [
    "for INDEX in range(16,21,1):\n",
    "\n",
    "     # Instance of chrome:\n",
    "     driver = webdriver.Chrome(executable_path='/Users/robertodelprete/Downloads/COSMO-SkyMed/chromedriver')\n",
    "     # Go to website\n",
    "     page = 'portal.cosmo-skymed.it/CDMFE/home'\n",
    "     username, password = \"ITA-2482\", \"Murphy_CSK3\"\n",
    "     webpage=f'https://{username}:{password}@'+page\n",
    "\n",
    "     driver.get(webpage)\n",
    "     sleep(5)\n",
    "\n",
    "     # Order Monitoring:\n",
    "     clicker('#wrapper > div.row-fluid > div:nth-child(5) > a > div > img')\n",
    "     sleep(20)\n",
    "\n",
    "     # Filter\n",
    "     elem = GetByXPath('/html/body/div[1]/nav/div[2]/div/ul/li[3]/ul/li/div/div/div/div/div[2]/div[3]/div/button/div')\n",
    "     elem.click()\n",
    "     sleep(2)\n",
    "\n",
    "     elem = GetByXPath('/html/body/div[1]/nav/div[2]/div/ul/li[3]/ul/li/div/div/div/div/div[2]/div[2]/div/button/div')\n",
    "     elem.click()\n",
    "     sleep(2)\n",
    "\n",
    "     elem = GetByXPath('/html/body/div[1]/nav/div[2]/div/ul/li[4]/a')\n",
    "     elem.click()\n",
    "     sleep(2)\n",
    "\n",
    "     elem = GetByXPath('/html/body/div[14]/div[2]/div/div[3]/div/div/button[2]')\n",
    "     elem.click()\n",
    "     sleep(4)\n",
    "\n",
    "    # pagina 2\n",
    "     page2 = '/html/body/div[2]/div[20]/div[2]/div[1]/div[2]/div[4]/div[2]/ul/li[4]/a'\n",
    "     page3 = '/html/body/div[2]/div[20]/div[2]/div[1]/div[2]/div[4]/div[2]/ul/li[5]/a'\n",
    "     elem = GetByXPath(page3)\n",
    "     elem.click()\n",
    "     sleep(2)\n",
    "\n",
    "     # Get the element N_idx\n",
    "     idx = INDEX\n",
    "     prod_specs = GetByXPath(f'/html/body/div[2]/div[20]/div[2]/div[1]/div[2]/div[2]/table/tbody/tr[{idx}]/td[13]')\n",
    "     nome = prod_specs.get_attribute('innerHTML')\n",
    "     fname = nome.split(' ')[-1]\n",
    "     print(nome)\n",
    "     prod_specs.click()\n",
    "\n",
    "     actions = GetByXPath('/html/body/div[2]/div[20]/div[2]/div[1]/div[1]/div[1]/div/div[2]/div/button')\n",
    "     actions.click()\n",
    "     sleep(2)\n",
    "\n",
    "     download = GetByXPath('/html/body/div[2]/div[20]/div[2]/div[1]/div[1]/div[1]/div/div[2]/div/ul/li[3]/a')\n",
    "     download.click()\n",
    "     sleep(2)\n",
    "\n",
    "     downAll = GetByXPath('/html/body/div[2]/div[21]/div[2]/div[1]/div[1]/div[1]/div/div/button[2]')\n",
    "     downAll.click()\n",
    "     sleep(2)\n",
    "\n",
    "     # home = driver.current_window_handle # id of the window\n",
    "     tabs = driver.window_handles\n",
    "     print(tabs)\n",
    "     home = tabs[0]\n",
    "     URLs = []\n",
    "     for tab in tabs:\n",
    "          if tab != home:\n",
    "               driver.switch_to.window(tab)\n",
    "               refs = driver.find_elements_by_xpath(\"//a[@href]\")\n",
    "               Links = []\n",
    "               for elem in refs:\n",
    "                    link = elem.get_attribute(\"href\")\n",
    "                    # print(link)\n",
    "                    Links.append(link)\n",
    "\n",
    "               URLs += Links\n",
    "\n",
    "\n",
    "               # url = driver.current_url\n",
    "               # driver.close()\n",
    "\n",
    "     print('Numero di items: ',len(tabs)-1)\n",
    "\n",
    "     estURL = (len(tabs)-1)*6\n",
    "     print('Numero di URL stimati:',estURL)\n",
    "     print('Numero di URL ottenuti:',len(URLs))\n",
    "\n",
    "     driver.switch_to.window(home)\n",
    "     exitBtn = GetByXPath('/html/body/div[1]/nav/ul/li[1]/a')\n",
    "     exitBtn.click()\n",
    "     sleep(1)\n",
    "     Logout = GetByXPath('/html/body/div[1]/nav/ul/li[1]/ul/li[3]/a')\n",
    "     Logout.click()\n",
    "     sleep(3)\n",
    "     driver.quit()\n",
    "\n",
    "\n",
    "     cwd = os.getcwd()\n",
    "     outdir=cwd+f'/{fname}'\n",
    "     os.makedirs(outdir, exist_ok=True)\n",
    "\n",
    "     if outdir.endswith('/'):\n",
    "          pass\n",
    "     else:\n",
    "          outdir+='/'\n",
    "\n",
    "\n",
    "     with open(outdir+'Links.txt', 'w') as f:\n",
    "          for link in URLs:\n",
    "               f.write(link)\n",
    "               f.write('\\n')"
   ]
  },
  {
   "cell_type": "code",
   "execution_count": null,
   "metadata": {},
   "outputs": [],
   "source": [
    "driver.quit()"
   ]
  },
  {
   "cell_type": "code",
   "execution_count": 3,
   "metadata": {},
   "outputs": [
    {
     "name": "stdout",
     "output_type": "stream",
     "text": [
      "['CDwindow-DE9BBB9840409853CF09F33CD26AEB28', 'CDwindow-D2CD2C16EC6CCC7E4AA18940C8FC5A56', 'CDwindow-4ACAFD25788480806E0C430EE0DD001A', 'CDwindow-091FC38736679EDFA408ED9010945B44', 'CDwindow-481A2B66AF0629AA907EAB4B5248736F', 'CDwindow-D11A7FFAD9D7AB49E545FE4AF04DBEC4', 'CDwindow-17CCD5D32B1BCAF0E2C5EC4E8DCDE21A', 'CDwindow-6794FCDE911AF06DF2270DB1843C5682', 'CDwindow-8510B4399D7EE9F90E2F4E8DD3580410', 'CDwindow-8FADF0080CD1AA7425B5EE448EC43A2E']\n"
     ]
    }
   ],
   "source": [
    "# FETCH URLS OPEN TABS\n",
    "tabs = driver.window_handles\n",
    "print(tabs)\n",
    "home = tabs[0]\n",
    "URLs = []\n",
    "for tab in tabs:\n",
    "     if tab != home:\n",
    "          driver.switch_to.window(tab)\n",
    "          refs = driver.find_elements_by_xpath(\"//a[@href]\")\n",
    "          Links = []\n",
    "          for elem in refs:\n",
    "               link = elem.get_attribute(\"href\")\n",
    "               # print(link)\n",
    "               Links.append(link)\n",
    "\n",
    "          URLs += Links"
   ]
  },
  {
   "cell_type": "code",
   "execution_count": 8,
   "metadata": {},
   "outputs": [
    {
     "name": "stdout",
     "output_type": "stream",
     "text": [
      "1341805\n"
     ]
    }
   ],
   "source": [
    "len(URLs)\n",
    "fname = '1756348'\n",
    "print(fname)"
   ]
  },
  {
   "cell_type": "code",
   "execution_count": 9,
   "metadata": {},
   "outputs": [],
   "source": [
    "# WRITE URLS TO FILE\n",
    "cwd = os.getcwd()\n",
    "outdir=cwd+f'/{fname}'\n",
    "os.makedirs(outdir, exist_ok=True)\n",
    "\n",
    "if outdir.endswith('/'):\n",
    "     pass\n",
    "else:\n",
    "     outdir+='/'\n",
    "\n",
    "\n",
    "with open(outdir+'Links.txt', 'w') as f:\n",
    "     for link in URLs:\n",
    "          f.write(link)\n",
    "          f.write('\\n')"
   ]
  },
  {
   "cell_type": "code",
   "execution_count": null,
   "metadata": {},
   "outputs": [],
   "source": []
  },
  {
   "cell_type": "code",
   "execution_count": null,
   "metadata": {},
   "outputs": [],
   "source": []
  },
  {
   "cell_type": "code",
   "execution_count": null,
   "metadata": {},
   "outputs": [],
   "source": []
  },
  {
   "cell_type": "code",
   "execution_count": null,
   "metadata": {},
   "outputs": [],
   "source": []
  },
  {
   "cell_type": "code",
   "execution_count": null,
   "metadata": {},
   "outputs": [],
   "source": []
  },
  {
   "cell_type": "code",
   "execution_count": null,
   "metadata": {},
   "outputs": [],
   "source": []
  },
  {
   "cell_type": "code",
   "execution_count": 2,
   "metadata": {},
   "outputs": [],
   "source": [
    "# Instance of chrome:\n",
    "driver = webdriver.Chrome(executable_path='/Users/robertodelprete/Downloads/COSMO-SkyMed/chromedriver')\n",
    "# Go to website\n",
    "page = 'portal.cosmo-skymed.it/CDMFE/home'\n",
    "username, password = \"ITA-2482\", \"Murphy_CSK3\"\n",
    "webpage=f'https://{username}:{password}@'+page\n",
    "\n",
    "driver.get(webpage)\n",
    "sleep(5)"
   ]
  },
  {
   "cell_type": "code",
   "execution_count": null,
   "metadata": {},
   "outputs": [],
   "source": [
    "# Order Monitoring:\n",
    "clicker('#wrapper > div.row-fluid > div:nth-child(5) > a > div > img')\n",
    "sleep(20)"
   ]
  },
  {
   "cell_type": "code",
   "execution_count": null,
   "metadata": {},
   "outputs": [],
   "source": [
    "# Filter\n",
    "elem = GetByXPath('/html/body/div[1]/nav/div[2]/div/ul/li[3]/ul/li/div/div/div/div/div[2]/div[3]/div/button/div')\n",
    "elem.click()\n",
    "sleep(2)\n",
    "\n",
    "elem = GetByXPath('/html/body/div[1]/nav/div[2]/div/ul/li[3]/ul/li/div/div/div/div/div[2]/div[2]/div/button/div')\n",
    "elem.click()\n",
    "sleep(2)\n",
    "\n",
    "elem = GetByXPath('/html/body/div[1]/nav/div[2]/div/ul/li[4]/a')\n",
    "elem.click()\n",
    "sleep(2)\n",
    "\n",
    "elem = GetByXPath('/html/body/div[14]/div[2]/div/div[3]/div/div/button[2]')\n",
    "elem.click()\n",
    "sleep(4)\n",
    "\n",
    "# pagina 2\n",
    "page2 = '/html/body/div[2]/div[20]/div[2]/div[1]/div[2]/div[4]/div[2]/ul/li[4]/a'\n",
    "page3 = '/html/body/div[2]/div[20]/div[2]/div[1]/div[2]/div[4]/div[2]/ul/li[5]/a'\n",
    "elem = GetByXPath(page3)\n",
    "elem.click()\n",
    "sleep(2)"
   ]
  },
  {
   "cell_type": "code",
   "execution_count": null,
   "metadata": {},
   "outputs": [],
   "source": [
    "# Get the element N_idx\n",
    "idx = INDEX\n",
    "prod_specs = GetByXPath(f'/html/body/div[2]/div[20]/div[2]/div[1]/div[2]/div[2]/table/tbody/tr[{idx}]/td[13]')\n",
    "nome = prod_specs.get_attribute('innerHTML')\n",
    "fname = nome.split(' ')[-1]\n",
    "print(nome)\n",
    "prod_specs.click()"
   ]
  },
  {
   "cell_type": "code",
   "execution_count": null,
   "metadata": {},
   "outputs": [],
   "source": [
    "actions = GetByXPath('/html/body/div[2]/div[20]/div[2]/div[1]/div[1]/div[1]/div/div[2]/div/button')\n",
    "actions.click()\n",
    "sleep(2)\n",
    "\n",
    "download = GetByXPath('/html/body/div[2]/div[20]/div[2]/div[1]/div[1]/div[1]/div/div[2]/div/ul/li[3]/a')\n",
    "download.click()\n",
    "sleep(2)\n",
    "\n",
    "downAll = GetByXPath('/html/body/div[2]/div[21]/div[2]/div[1]/div[1]/div[1]/div/div/button[2]')\n",
    "downAll.click()\n",
    "sleep(2)"
   ]
  },
  {
   "cell_type": "code",
   "execution_count": null,
   "metadata": {},
   "outputs": [],
   "source": [
    "# home = driver.current_window_handle # id of the window\n",
    "tabs = driver.window_handles\n",
    "print(tabs)\n",
    "home = tabs[0]\n",
    "URLs = []\n",
    "for tab in tabs:\n",
    "     if tab != home:\n",
    "          driver.switch_to.window(tab)\n",
    "          refs = driver.find_elements_by_xpath(\"//a[@href]\")\n",
    "          Links = []\n",
    "          for elem in refs:\n",
    "               link = elem.get_attribute(\"href\")\n",
    "               # print(link)\n",
    "               Links.append(link)\n",
    "\n",
    "          URLs += Links\n",
    "\n",
    "\n",
    "          # url = driver.current_url\n",
    "          # driver.close()\n",
    "\n",
    "print('Numero di items: ',len(tabs)-1)\n",
    "\n",
    "estURL = (len(tabs)-1)*6\n",
    "print('Numero di URL stimati:',estURL)\n",
    "print('Numero di URL ottenuti:',len(URLs))"
   ]
  },
  {
   "cell_type": "code",
   "execution_count": null,
   "metadata": {},
   "outputs": [],
   "source": [
    "driver.switch_to.window(home)\n",
    "exitBtn = GetByXPath('/html/body/div[1]/nav/ul/li[1]/a')\n",
    "exitBtn.click()\n",
    "sleep(1)\n",
    "Logout = GetByXPath('/html/body/div[1]/nav/ul/li[1]/ul/li[3]/a')\n",
    "Logout.click()\n",
    "sleep(3)\n",
    "driver.quit()"
   ]
  },
  {
   "cell_type": "code",
   "execution_count": null,
   "metadata": {},
   "outputs": [],
   "source": [
    "fname"
   ]
  },
  {
   "cell_type": "code",
   "execution_count": null,
   "metadata": {},
   "outputs": [],
   "source": [
    "import os\n",
    "\n",
    "cwd = os.getcwd()\n",
    "outdir=cwd+f'/{fname}'\n",
    "os.makedirs(outdir, exist_ok=True)\n",
    "\n",
    "if outdir.endswith('/'):\n",
    "     pass\n",
    "else:\n",
    "     outdir+='/'\n",
    "\n",
    "\n",
    "with open(outdir+'Links.txt', 'w') as f:\n",
    "     for link in URLs:\n",
    "          f.write(link)\n",
    "          f.write('\\n')"
   ]
  }
 ],
 "metadata": {
  "interpreter": {
   "hash": "b92fba3ade83b94b148469d466b202fdab161d6be64369461b773a8ba043abc0"
  },
  "kernelspec": {
   "display_name": "Python 3.9.7 ('py39')",
   "language": "python",
   "name": "python3"
  },
  "language_info": {
   "codemirror_mode": {
    "name": "ipython",
    "version": 3
   },
   "file_extension": ".py",
   "mimetype": "text/x-python",
   "name": "python",
   "nbconvert_exporter": "python",
   "pygments_lexer": "ipython3",
   "version": "3.9.7"
  },
  "orig_nbformat": 4
 },
 "nbformat": 4,
 "nbformat_minor": 2
}
