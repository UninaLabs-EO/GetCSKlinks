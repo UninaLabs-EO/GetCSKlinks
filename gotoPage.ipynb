{
 "cells": [
  {
   "cell_type": "code",
   "execution_count": 1,
   "metadata": {},
   "outputs": [],
   "source": [
    "from selenium import webdriver\n",
    "from selenium.webdriver.common.by import By\n",
    "from selenium.webdriver.support.ui import WebDriverWait\n",
    "from selenium.webdriver.support import expected_conditions as EC\n",
    "from selenium.webdriver.common.keys import Keys\n",
    "from selenium.common.exceptions import NoSuchElementException     \n",
    "from selenium.webdriver.support.ui import Select\n",
    "\n",
    "from time import sleep\n",
    "import os\n",
    "\n",
    "\n",
    "def GetByXPath(xPath: str):\n",
    "     element = WebDriverWait(driver, 30).until(\n",
    "          EC.presence_of_element_located((By.XPATH, xPath))\n",
    "     )\n",
    "     return element\n",
    "\n",
    "def GetByCSS_Selector(css_selector:str):\n",
    "     element = WebDriverWait(driver, 60).until(\n",
    "          EC.presence_of_element_located((By.CSS_SELECTOR, css_selector))\n",
    "     )\n",
    "     return element\n",
    "     \n",
    "def clicker(css_selector:str):\n",
    "     try:\n",
    "          element = GetByCSS_Selector(css_selector)\n",
    "          element.click()\n",
    "          return True\n",
    "     except:\n",
    "          print(\"Click action not executable.\")\n",
    "          return False"
   ]
  },
  {
   "cell_type": "code",
   "execution_count": 2,
   "metadata": {},
   "outputs": [],
   "source": [
    "# Instance of chrome:\n",
    "driver = webdriver.Chrome(executable_path='/Users/robertodelprete/Downloads/COSMO-SkyMed/chromedriver')\n",
    "# Go to website\n",
    "page = 'portal.cosmo-skymed.it/CDMFE/home'\n",
    "username, password = \"ITA-2482\", \"Murphy_CSK3\"\n",
    "webpage=f'https://{username}:{password}@'+page\n",
    "\n",
    "driver.get(webpage)"
   ]
  },
  {
   "cell_type": "code",
   "execution_count": 3,
   "metadata": {},
   "outputs": [],
   "source": [
    "# Order Monitoring:\n",
    "clicker('#wrapper > div.row-fluid > div:nth-child(5) > a > div > img')\n",
    "sleep(20)"
   ]
  },
  {
   "cell_type": "code",
   "execution_count": 4,
   "metadata": {},
   "outputs": [],
   "source": [
    "# Filter\n",
    "elem = GetByXPath('/html/body/div[1]/nav/div[2]/div/ul/li[3]/ul/li/div/div/div/div/div[2]/div[3]/div/button/div')\n",
    "elem.click()\n",
    "\n",
    "elem = GetByXPath('/html/body/div[1]/nav/div[2]/div/ul/li[3]/ul/li/div/div/div/div/div[2]/div[2]/div/button/div')\n",
    "elem.click()\n",
    "\n",
    "elem = GetByXPath('/html/body/div[1]/nav/div[2]/div/ul/li[4]/a')\n",
    "elem.click()\n",
    "\n",
    "sleep(2)\n",
    "elem = GetByXPath('/html/body/div[14]/div[2]/div/div[3]/div/div/button[2]')\n",
    "elem.click()"
   ]
  },
  {
   "cell_type": "code",
   "execution_count": 6,
   "metadata": {},
   "outputs": [],
   "source": [
    "# pag2\n",
    "elem = GetByXPath('/html/body/div[2]/div[20]/div[2]/div[1]/div[2]/div[4]/div[2]/ul/li[4]/a')\n",
    "elem.click()"
   ]
  },
  {
   "cell_type": "code",
   "execution_count": 9,
   "metadata": {},
   "outputs": [
    {
     "name": "stdout",
     "output_type": "stream",
     "text": [
      "PRODUCT_ID: 1672570 Geo: Egadi\n"
     ]
    }
   ],
   "source": [
    "# Get the element N_idx\n",
    "idx = 3\n",
    "prod_specs = GetByXPath(f'/html/body/div[2]/div[20]/div[2]/div[1]/div[2]/div[2]/table/tbody/tr[{idx}]/td[13]')\n",
    "nome = prod_specs.get_attribute('innerHTML')\n",
    "print(nome)\n",
    "prod_specs.click()"
   ]
  },
  {
   "cell_type": "code",
   "execution_count": 11,
   "metadata": {},
   "outputs": [],
   "source": [
    "actions = GetByXPath('/html/body/div[2]/div[20]/div[2]/div[1]/div[1]/div[1]/div/div[2]/div/button')\n",
    "actions.click()"
   ]
  },
  {
   "cell_type": "code",
   "execution_count": 12,
   "metadata": {},
   "outputs": [],
   "source": [
    "download = GetByXPath('/html/body/div[2]/div[20]/div[2]/div[1]/div[1]/div[1]/div/div[2]/div/ul/li[3]/a')\n",
    "download.click()"
   ]
  },
  {
   "cell_type": "code",
   "execution_count": 13,
   "metadata": {},
   "outputs": [],
   "source": [
    "downAll = GetByXPath('/html/body/div[2]/div[21]/div[2]/div[1]/div[1]/div[1]/div/div/button[2]')\n",
    "downAll.click()"
   ]
  },
  {
   "cell_type": "code",
   "execution_count": 20,
   "metadata": {},
   "outputs": [
    {
     "name": "stdout",
     "output_type": "stream",
     "text": [
      "1 ['CDwindow-6F3A6E566808205DEE2252DBA6D80C5C']\n"
     ]
    }
   ],
   "source": [
    "# home = driver.current_window_handle # id of the window\n",
    "tabs = driver.window_handles\n",
    "print(len(tabs), tabs)\n",
    "home = tabs[0]\n",
    "URLs = []\n",
    "for tab in tabs:\n",
    "     if tab != home:\n",
    "          driver.switch_to.window(tab)\n",
    "          url = driver.current_url\n",
    "          URLs.append(url)\n",
    "          driver.close()"
   ]
  },
  {
   "cell_type": "code",
   "execution_count": 17,
   "metadata": {},
   "outputs": [
    {
     "data": {
      "text/plain": [
       "['https://portal.cosmo-skymed.it/webdl/bundle/e653f52ea590a9e3ee524433a29aa3a8c9bad22cb17c416399a31e2e54a9e585',\n",
       " 'https://portal.cosmo-skymed.it/webdl/bundle/fbd54ca2780f97e053acd72243e3e5cee3b55f92d7437ab9cc433dbb6ce8fca8',\n",
       " 'https://portal.cosmo-skymed.it/webdl/bundle/c259ce89ebbaea1f5e4146a8052b812f59dcc805040f692c95b259efdedbff5f',\n",
       " 'https://portal.cosmo-skymed.it/webdl/bundle/f46214fb65785943bb36a3fbb11c739740c20222e7bbcb7bc597c701bc70f595',\n",
       " 'https://portal.cosmo-skymed.it/webdl/bundle/a678544c0832c70431c73687a80d41fd858ff49292a70276af8f0f35bf93e358',\n",
       " 'https://portal.cosmo-skymed.it/webdl/bundle/07d2d5d59bfb060b2a7ddc04007df69210f68f9149da1bcfb1021e5dbbda75a4']"
      ]
     },
     "execution_count": 17,
     "metadata": {},
     "output_type": "execute_result"
    }
   ],
   "source": [
    "URLs += ['https://portal.cosmo-skymed.it/webdl/bundle/07d2d5d59bfb060b2a7ddc04007df69210f68f9149da1bcfb1021e5dbbda75a4']\n",
    "URLs"
   ]
  },
  {
   "cell_type": "code",
   "execution_count": 18,
   "metadata": {},
   "outputs": [],
   "source": [
    "from utils import *\n",
    "\n",
    "saveLinks(prod_number='1672570', parentLinks=URLs)\n"
   ]
  },
  {
   "cell_type": "code",
   "execution_count": null,
   "metadata": {},
   "outputs": [],
   "source": [
    "# closing the down tab\n",
    "ics = GetByXPath('/html/body/div[2]/div[21]/div[1]/div/button')\n",
    "ics.click()"
   ]
  },
  {
   "cell_type": "code",
   "execution_count": null,
   "metadata": {},
   "outputs": [],
   "source": [
    "driver.quit()"
   ]
  },
  {
   "cell_type": "code",
   "execution_count": null,
   "metadata": {},
   "outputs": [],
   "source": []
  }
 ],
 "metadata": {
  "interpreter": {
   "hash": "b92fba3ade83b94b148469d466b202fdab161d6be64369461b773a8ba043abc0"
  },
  "kernelspec": {
   "display_name": "Python 3.9.7 ('py39')",
   "language": "python",
   "name": "python3"
  },
  "language_info": {
   "codemirror_mode": {
    "name": "ipython",
    "version": 3
   },
   "file_extension": ".py",
   "mimetype": "text/x-python",
   "name": "python",
   "nbconvert_exporter": "python",
   "pygments_lexer": "ipython3",
   "version": "3.9.7"
  },
  "orig_nbformat": 4
 },
 "nbformat": 4,
 "nbformat_minor": 2
}
