{
 "cells": [
  {
   "cell_type": "code",
   "execution_count": 1,
   "metadata": {},
   "outputs": [
    {
     "name": "stdout",
     "output_type": "stream",
     "text": [
      "/Users/robertodelprete/Downloads/COSMO-SkyMed\n"
     ]
    }
   ],
   "source": [
    "from utils import getLinks\n",
    "import os\n",
    "\n",
    "\n",
    "cwd = os.getcwd()\n",
    "print(cwd)"
   ]
  },
  {
   "cell_type": "code",
   "execution_count": 2,
   "metadata": {},
   "outputs": [],
   "source": [
    "prod_1293433 = ['https://portal.cosmo-skymed.it/webdl/bundle/56cadf16cfe1ee60ac5afccd8e50180abba5d9248d3a021928f51ecfaa4d657f',\n",
    "               'https://portal.cosmo-skymed.it/webdl/bundle/f3951aa8cf307e2b07abe551171689b0b1eeb9bd16dcfbfa7ef1d6e61f06209c',\n",
    "               'https://portal.cosmo-skymed.it/webdl/bundle/8490622c0df0d9fea9ada6338c483d5c03ad7479735e3f01a9537faae2f5e9dc',\n",
    "               'https://portal.cosmo-skymed.it/webdl/bundle/8e182d27060dfab41573afef2a82cc63256b9f9738772c55c2c5e3b7f85ceacf',\n",
    "     ]\n",
    "\n",
    "prod_1762255 = ['https://portal.cosmo-skymed.it/webdl/bundle/a9ffe199eb6a23acb68a8ab951c9eaf6e768912bcda1470f9231f15c6a527415',\n",
    "               'https://portal.cosmo-skymed.it/webdl/bundle/19c2a2cc65df792c19abb110f050c264803ba662d8d0d8b66a8cd938fc42f7f3',\n",
    "               'https://portal.cosmo-skymed.it/webdl/bundle/7a2ef504f13c5649855fb1e04b8b0bb357de99c9f34e223a07d3fbb2198d926c',\n",
    "               'https://portal.cosmo-skymed.it/webdl/bundle/e0839e49723b2338d5ad300e7cab6d51047e779313742365e982589f4200cb17'\n",
    "               ]\n",
    "\n",
    "prod_1545679 = ['https://portal.cosmo-skymed.it/webdl/bundle/40ee907db09604762cb71175f2a869105625b3361ad58386351ec70b4c0e2cab',\n",
    "              'https://portal.cosmo-skymed.it/webdl/bundle/7c20ac45290ed35a45a5a9a50f5b199b5d6d3eeb10f8e5f089601f13b5a5889f',\n",
    "              'https://portal.cosmo-skymed.it/webdl/bundle/c041ab1f1eed737a6e58a2d8ea162a91f6443f141a8bdb55dd7bec7954eb4387',\n",
    "              'https://portal.cosmo-skymed.it/webdl/bundle/75c350af28e5d63032abb9e20b7a0dc80800392524559355d8e938337b5ca9ca',\n",
    "]\n",
    "\n",
    "prod_1388973 = ['https://portal.cosmo-skymed.it/webdl/bundle/d72026d887e83875da93ee60bc744c81f215a38715ba76ebce2fe51f8d449790',\n",
    "               'https://portal.cosmo-skymed.it/webdl/bundle/e90302e3a554ff46e8108b3a90ad1c3318290541bdb4f444fd5f4ba6424db4d8',\n",
    "               'https://portal.cosmo-skymed.it/webdl/bundle/4694a2da55876bd71183e3c0c026cc307df35a0d9f0d8f4e91cdaca2161ac384',\n",
    "               'https://portal.cosmo-skymed.it/webdl/bundle/73d2c3bd3c36498a29d94cc50e7908dc2dfd901c4be8eb8209116566a910744c',\n",
    "]\n",
    "\n",
    "prod_1660542 = ['https://portal.cosmo-skymed.it/webdl/bundle/d31fd67490d5c2c63a2118af9bd79b33e554a8fd421a4407a490e95c208af2ce',\n",
    "               'https://portal.cosmo-skymed.it/webdl/bundle/05309200be3a354d75fc396fda2e71faa544e15ede9d270beab7ad9bdd9dda1b',\n",
    "               'https://portal.cosmo-skymed.it/webdl/bundle/0f6eee39e3f35031b7ef3eb00a9d11ecc19daedb6332e59d19070620d06ab54a',\n",
    "               'https://portal.cosmo-skymed.it/webdl/bundle/137345f037ffcd7df1c66a7c3f6a493cff0037bea0d596d7ffab1ccbb4c7e30f',               \n",
    "               ]\n",
    "\n",
    "prod_1356523 = ['https://portal.cosmo-skymed.it/webdl/bundle/f0363563dc68588bde354e551c978822dd395d09a216e9201731c8fc7365a686','https://portal.cosmo-skymed.it/webdl/bundle/2b6e437daf519952e219c996ea536ac99ee101e82687c7b615226e4b9fc8af27','https://portal.cosmo-skymed.it/webdl/bundle/6e064f61cd8d29fd7e7302464090e80c6af4d73c7949068d7bde65f7371bce9e','https://portal.cosmo-skymed.it/webdl/bundle/a98ab68eaeb0a3f37c87c0e7d91e31b3710ed882af0dc2fcb6efa071b5cd4755']\n",
    "prod_1817291 = ['https://portal.cosmo-skymed.it/webdl/bundle/edad02c521fe45a04894fc42802fb9e7a81dda4fe97694c1812290df9f385e32','https://portal.cosmo-skymed.it/webdl/bundle/c357752e2ba79264b8b8bbfab8e2f9ac6596f4d4277a02014f7d1021ddbb7fe0','https://portal.cosmo-skymed.it/webdl/bundle/fd9912cddc0ab297efbb7d7297ecf5837c525d1cd8f2e1de62a6e7d79190f143']\n",
    "prod_1772282 = ['https://portal.cosmo-skymed.it/webdl/bundle/639e64ba2a553d7c2aa910dac5e8dc46cbc870ba5e3d895290f5aca183c01471','https://portal.cosmo-skymed.it/webdl/bundle/e6a95879933ea350ca122e2e25fb114e248879bd9cf77cb38a02625630ee81ce','https://portal.cosmo-skymed.it/webdl/bundle/f93fd928d208218eb5b69f959ab97611453d55f2b746f88fa294a7f0921979a0','https://portal.cosmo-skymed.it/webdl/bundle/0748879fca1ec8e228e82c8d9ce1d043a4a6039c5ee332af20f90e369f9ae072','https://portal.cosmo-skymed.it/webdl/bundle/37261f4bd2929e641d0f023c1dd4d7e6ab23a79b7895a1ef2152d0a40eb0b874']\n",
    "prod_1448853 = ['https://portal.cosmo-skymed.it/webdl/bundle/3661612696067ea7c19d7df26cec41d818e0216902a21224cf1d72014f29da59','https://portal.cosmo-skymed.it/webdl/bundle/901482dbc3d82434a04b98843027454e8f5b38ddd969f506bfda2058df6d94e3','https://portal.cosmo-skymed.it/webdl/bundle/584334e951cc82734d6683e8c9a4ca5815b2bf731c6b32e909d40dfe196a1120','https://portal.cosmo-skymed.it/webdl/bundle/82f59dcbe33248a550a343b8b4d95bfbeaa49f09a57c7353752db149cd8826fe','https://portal.cosmo-skymed.it/webdl/bundle/ab7b024c935acc50693d74668f00c7061bee10339d5332cbac2316407427b101']\n",
    "prod_1377380 = ['https://portal.cosmo-skymed.it/webdl/bundle/3661612696067ea7c19d7df26cec41d818e0216902a21224cf1d72014f29da59','https://portal.cosmo-skymed.it/webdl/bundle/584334e951cc82734d6683e8c9a4ca5815b2bf731c6b32e909d40dfe196a1120','https://portal.cosmo-skymed.it/webdl/bundle/901482dbc3d82434a04b98843027454e8f5b38ddd969f506bfda2058df6d94e3','https://portal.cosmo-skymed.it/webdl/bundle/82f59dcbe33248a550a343b8b4d95bfbeaa49f09a57c7353752db149cd8826fe','https://portal.cosmo-skymed.it/webdl/bundle/ab7b024c935acc50693d74668f00c7061bee10339d5332cbac2316407427b101']\n",
    "prod_1648226 = ['https://portal.cosmo-skymed.it/webdl/bundle/467097cb350c2011a2361b3a6eac7cc0fc6dff5b52a09cebc2d84e6a11cfc314','https://portal.cosmo-skymed.it/webdl/bundle/19f9306a8d35ac6e1e7fcad6e787d46fc6ec1d4a0607a15faee3cf9ed1908073','https://portal.cosmo-skymed.it/webdl/bundle/3b67c6a0e7da6c8fbaa87d6d7859b57b36b660d3691534983df412296236770b','https://portal.cosmo-skymed.it/webdl/bundle/e238588977387ec1d47e7dd967ea66876237b0e5fc733b74dc8dc9e0b641d584']\n",
    "prod_1655589 = ['https://portal.cosmo-skymed.it/webdl/bundle/a2515475b93e642363ee3fec0e7a97bb2abea12045988061044bf29a7e738952','https://portal.cosmo-skymed.it/webdl/bundle/65e643c0d0591af5bdf48380d827d7af455d548f79b9dff26b76467600be6d38','https://portal.cosmo-skymed.it/webdl/bundle/201d16bebb416a8c7f5c9b2f56bcf89308c22edb15ccb97f948ddd9b944277d5','https://portal.cosmo-skymed.it/webdl/bundle/239e0adf4799225a69609b8afb7883685a02ad660ae347c9b7ef0b0a863b9236','https://portal.cosmo-skymed.it/webdl/bundle/cf259465f3122b21fb45daf7254253d60421523b5d50385cae2a797f4bf28f49']\n",
    "prod_1297203 = ['https://portal.cosmo-skymed.it/webdl/bundle/64ed8450c1612e735b0df1909578af47e054c2ac920407a4447c16771ef66524','https://portal.cosmo-skymed.it/webdl/bundle/d71af959ef79d36815c556efbf02f80ef3649601c8c9ca2aade0e75d27a5eedd','https://portal.cosmo-skymed.it/webdl/bundle/894bf5e4c07e61fc0931883d5ba5983a7de924126d4802985ba53eed6b3c1b3b','https://portal.cosmo-skymed.it/webdl/bundle/6aad36fa39d39b5481b00b3e24580ad222be96243800d46eda926a6fe98214cc','https://portal.cosmo-skymed.it/webdl/bundle/a418249709ee9330db0a1dbee9744b39f7e8c34c128c89a35e071fc4120e88b2']\n",
    "prod_1685049 = ['https://portal.cosmo-skymed.it/webdl/bundle/d267787ef913e637dab938f9f9cfeb07ecfa7a0587bfd86ea658a6e9e6a3479d','https://portal.cosmo-skymed.it/webdl/bundle/3819ae77d5950be061373287bc4edbddcbf7ff771709faf7528ad11c0d3328bf','https://portal.cosmo-skymed.it/webdl/bundle/990478aad2425b2cf6b3ba28b3b6ac1650b890e3bdcdc0a0f4bd25531ca52ebe']\n",
    "prod_1418705 = ['https://portal.cosmo-skymed.it/webdl/bundle/4ec5b763c4781c2f8e169548b4bd5c3a392341b447ebe7477b68e0158a9532f9','https://portal.cosmo-skymed.it/webdl/bundle/3fe0e989e8d6c0efc43ca0c8ebf69e80047edf620c51e09373244bfe57606c83','https://portal.cosmo-skymed.it/webdl/bundle/0e37f70c89ad24b8d94496d6fe8a1181c51d3ee4f7096e83d09702adfd44c314']\n",
    "prod_1545679 = ['https://portal.cosmo-skymed.it/webdl/bundle/49e0e9bb305876790c20742d070461a3b03b7e059693b78f0495232a154263bd','https://portal.cosmo-skymed.it/webdl/bundle/34299e37fdfd96a7b835a79aaa45168b42787645076e4353f839a11d8696202b','https://portal.cosmo-skymed.it/webdl/bundle/1e83155589bece9edd0986baec44b9e60a2efac1e23e581e44f710eb14c8c143','https://portal.cosmo-skymed.it/webdl/bundle/21fdf3d09e5614db36d8d606de6b3d5147d9c80321466a5eced12088fbc774fb']\n",
    "\n",
    "\n",
    "prod_  = ['','','','']\n",
    "prod_  = ['','','','']\n",
    "prod_  = ['','','','']\n",
    "prod_  = ['','','','']\n",
    "prod_  = ['','','','']\n",
    "prod_  = ['','','','']\n",
    "prod_  = ['','','','']\n",
    "prod_  = ['','','','']\n",
    "prod_  = ['','','','']\n",
    "\n",
    "\n",
    "\n",
    "prodotti = [   prod_1297203,\n",
    "               prod_1685049,\n",
    "               prod_1418705,\n",
    "               prod_1545679,\n",
    "               ]\n",
    "\n",
    "prodotti_name = ['1297203',\n",
    "               '1685049',\n",
    "               '1418705',\n",
    "               '1545679',\n",
    "               ]\n",
    "\n",
    "\n",
    "\n",
    "\n",
    "\n",
    "\n"
   ]
  },
  {
   "cell_type": "code",
   "execution_count": 3,
   "metadata": {},
   "outputs": [],
   "source": [
    "for prod_number, PRODOTTO in zip(prodotti_name, prodotti):\n",
    "# prod_number = '1660542'\n",
    "# PRODOTTO = prod_1660542\n",
    "     ################################################################\n",
    "     outdir=cwd+f'/{prod_number}'\n",
    "     os.makedirs(outdir, exist_ok=True)\n",
    "     allLinks = []\n",
    "\n",
    "\n",
    "     for page in PRODOTTO:\n",
    "          Links = getLinks(page)\n",
    "          allLinks += Links\n",
    "\n",
    "\n",
    "     if outdir.endswith('/'):\n",
    "          pass\n",
    "     else:\n",
    "          outdir+='/'\n",
    "\n",
    "\n",
    "     with open(outdir+'Links.txt', 'w') as f:\n",
    "          for link in allLinks:\n",
    "               f.write(link)\n",
    "               f.write('\\n')\n",
    "\n"
   ]
  },
  {
   "cell_type": "code",
   "execution_count": null,
   "metadata": {},
   "outputs": [],
   "source": []
  }
 ],
 "metadata": {
  "interpreter": {
   "hash": "b92fba3ade83b94b148469d466b202fdab161d6be64369461b773a8ba043abc0"
  },
  "kernelspec": {
   "display_name": "Python (3.8)",
   "language": "python",
   "name": "python3"
  },
  "language_info": {
   "codemirror_mode": {
    "name": "ipython",
    "version": 3
   },
   "file_extension": ".py",
   "mimetype": "text/x-python",
   "name": "python",
   "nbconvert_exporter": "python",
   "pygments_lexer": "ipython3",
   "version": "3.9.7"
  },
  "orig_nbformat": 4
 },
 "nbformat": 4,
 "nbformat_minor": 2
}
