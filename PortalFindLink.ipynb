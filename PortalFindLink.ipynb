{
 "cells": [
  {
   "cell_type": "code",
   "execution_count": 1,
   "metadata": {},
   "outputs": [
    {
     "name": "stdout",
     "output_type": "stream",
     "text": [
      "c:\\Users\\robe.delprete\\Documents\\PyProject\\COAST\\DW\\GetLinks\n"
     ]
    }
   ],
   "source": [
    "from selenium import webdriver\n",
    "from selenium.webdriver.common.by import By\n",
    "from selenium.webdriver.support.ui import WebDriverWait\n",
    "from selenium.webdriver.support import expected_conditions as EC\n",
    "from selenium.webdriver.common.keys import Keys\n",
    "from selenium.common.exceptions import NoSuchElementException     \n",
    "from selenium.webdriver.support.ui import Select\n",
    "\n",
    "from time import sleep\n",
    "import os\n",
    "\n",
    "def getLinks(page):\n",
    "     ''' Get links from webpage '''\n",
    "     # Instance of chrome:\n",
    "     driver = webdriver.Chrome(executable_path=r'C:\\Users\\robe.delprete\\Documents\\PyProject\\COAST\\DW\\chromedriver.exe')\n",
    "     # Go to website\n",
    "     pageFine=page.split('//')[-1]\n",
    "     username, password = \"ITA-2482\", \"Murphy_CSK3\"\n",
    "     webpage=f'https://{username}:{password}@'+pageFine\n",
    "\n",
    "     driver.get(webpage)\n",
    "\n",
    "     elems = driver.find_elements_by_xpath(\"//a[@href]\")\n",
    "     Links = []\n",
    "     for elem in elems:\n",
    "          link = elem.get_attribute(\"href\")\n",
    "          # print(link)\n",
    "          Links.append(link)\n",
    "\n",
    "     driver.quit()\n",
    "     return Links\n",
    "\n",
    "\n",
    "\n",
    "cwd = os.getcwd()\n",
    "print(cwd)"
   ]
  },
  {
   "cell_type": "code",
   "execution_count": 7,
   "metadata": {},
   "outputs": [],
   "source": [
    "prod_1293433 = ['https://portal.cosmo-skymed.it/webdl/bundle/56cadf16cfe1ee60ac5afccd8e50180abba5d9248d3a021928f51ecfaa4d657f',\n",
    "               'https://portal.cosmo-skymed.it/webdl/bundle/f3951aa8cf307e2b07abe551171689b0b1eeb9bd16dcfbfa7ef1d6e61f06209c',\n",
    "               'https://portal.cosmo-skymed.it/webdl/bundle/8490622c0df0d9fea9ada6338c483d5c03ad7479735e3f01a9537faae2f5e9dc',\n",
    "               'https://portal.cosmo-skymed.it/webdl/bundle/8e182d27060dfab41573afef2a82cc63256b9f9738772c55c2c5e3b7f85ceacf',\n",
    "     ]\n",
    "\n",
    "prod_1762255 = ['https://portal.cosmo-skymed.it/webdl/bundle/a9ffe199eb6a23acb68a8ab951c9eaf6e768912bcda1470f9231f15c6a527415',\n",
    "               'https://portal.cosmo-skymed.it/webdl/bundle/19c2a2cc65df792c19abb110f050c264803ba662d8d0d8b66a8cd938fc42f7f3',\n",
    "               'https://portal.cosmo-skymed.it/webdl/bundle/7a2ef504f13c5649855fb1e04b8b0bb357de99c9f34e223a07d3fbb2198d926c',\n",
    "               'https://portal.cosmo-skymed.it/webdl/bundle/e0839e49723b2338d5ad300e7cab6d51047e779313742365e982589f4200cb17'\n",
    "               ]\n",
    "\n",
    "prod_1545679 = ['https://portal.cosmo-skymed.it/webdl/bundle/40ee907db09604762cb71175f2a869105625b3361ad58386351ec70b4c0e2cab',\n",
    "              'https://portal.cosmo-skymed.it/webdl/bundle/7c20ac45290ed35a45a5a9a50f5b199b5d6d3eeb10f8e5f089601f13b5a5889f',\n",
    "              'https://portal.cosmo-skymed.it/webdl/bundle/c041ab1f1eed737a6e58a2d8ea162a91f6443f141a8bdb55dd7bec7954eb4387',\n",
    "              'https://portal.cosmo-skymed.it/webdl/bundle/75c350af28e5d63032abb9e20b7a0dc80800392524559355d8e938337b5ca9ca',\n",
    "]\n",
    "\n",
    "prod_1388973 = ['https://portal.cosmo-skymed.it/webdl/bundle/d72026d887e83875da93ee60bc744c81f215a38715ba76ebce2fe51f8d449790',\n",
    "               'https://portal.cosmo-skymed.it/webdl/bundle/e90302e3a554ff46e8108b3a90ad1c3318290541bdb4f444fd5f4ba6424db4d8',\n",
    "               'https://portal.cosmo-skymed.it/webdl/bundle/4694a2da55876bd71183e3c0c026cc307df35a0d9f0d8f4e91cdaca2161ac384',\n",
    "               'https://portal.cosmo-skymed.it/webdl/bundle/73d2c3bd3c36498a29d94cc50e7908dc2dfd901c4be8eb8209116566a910744c',\n",
    "]\n",
    "\n",
    "\n"
   ]
  },
  {
   "cell_type": "code",
   "execution_count": 6,
   "metadata": {},
   "outputs": [],
   "source": [
    "prod_number = '1545679 '\n",
    "PRODOTTO = prod_1762255\n",
    "outdir=cwd+f'//{prod_number}'\n",
    "os.makedirs(outdir, exist_ok=True)\n",
    "allLinks = []\n",
    "\n",
    "\n",
    "\n",
    "\n",
    "for page in PRODOTTO:\n",
    "     Links = getLinks(page)\n",
    "     allLinks += Links\n",
    "\n",
    "     if outdir.endswith('\\\\'):\n",
    "          pass\n",
    "     else:\n",
    "          outdir+='\\\\'\n",
    "\n",
    "\n",
    "     with open(outdir+'Links.txt', 'w') as f:\n",
    "          for link in allLinks:\n",
    "               f.write(link)\n",
    "               f.write('\\n')\n",
    "\n"
   ]
  },
  {
   "cell_type": "code",
   "execution_count": null,
   "metadata": {},
   "outputs": [],
   "source": []
  }
 ],
 "metadata": {
  "interpreter": {
   "hash": "3e681483caa0b24b1aa5cdb35a5732495640eb463c6d49f573e3092e8d828c08"
  },
  "kernelspec": {
   "display_name": "Python (3.8)",
   "language": "python",
   "name": "py38"
  },
  "language_info": {
   "codemirror_mode": {
    "name": "ipython",
    "version": 3
   },
   "file_extension": ".py",
   "mimetype": "text/x-python",
   "name": "python",
   "nbconvert_exporter": "python",
   "pygments_lexer": "ipython3",
   "version": "3.8.12"
  },
  "orig_nbformat": 4
 },
 "nbformat": 4,
 "nbformat_minor": 2
}
